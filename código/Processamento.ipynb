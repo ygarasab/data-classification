{
 "cells": [
  {
   "cell_type": "markdown",
   "metadata": {},
   "source": [
    "# Importações"
   ]
  },
  {
   "cell_type": "code",
   "execution_count": 40,
   "metadata": {},
   "outputs": [],
   "source": [
    "import elm as extreme_learning_machine\n",
    "import h5py\n",
    "import numpy as np\n",
    "import pandas as pd\n",
    "import simplejson as json"
   ]
  },
  {
   "cell_type": "code",
   "execution_count": 21,
   "metadata": {},
   "outputs": [],
   "source": [
    "from matplotlib import pyplot as plt\n",
    "from sklearn import base, metrics, model_selection, neural_network, tree"
   ]
  },
  {
   "cell_type": "code",
   "execution_count": 3,
   "metadata": {},
   "outputs": [],
   "source": [
    "%matplotlib inline"
   ]
  },
  {
   "cell_type": "markdown",
   "metadata": {},
   "source": [
    "**Observação:** o pacote `elm` não se encontra no PyPI. Para instalá-lo, use o comando `pip install git+https://github.com/imatheussm/Python-ELM.git`"
   ]
  },
  {
   "cell_type": "markdown",
   "metadata": {},
   "source": [
    "# Carregamento e consolidação dos dados"
   ]
  },
  {
   "cell_type": "markdown",
   "metadata": {},
   "source": [
    "Os dados ora utilizados foram baixados do [UCI Machine Learning](https://archive.ics.uci.edu/ml/datasets/Dota2+Games+Results). Em adição, os arquivos `.json` utilizados foram baixados de um repositório no [GitHub](https://github.com/kronusme/dota2-api/tree/master/data)."
   ]
  },
  {
   "cell_type": "code",
   "execution_count": 4,
   "metadata": {},
   "outputs": [],
   "source": [
    "treino = pd.read_csv(\"../dados/dota2Train.csv\", header=None)\n",
    "teste = pd.read_csv(\"../dados/dota2Test.csv\", header=None)"
   ]
  },
  {
   "cell_type": "code",
   "execution_count": 5,
   "metadata": {},
   "outputs": [],
   "source": [
    "dados = pd.concat((treino, teste))"
   ]
  },
  {
   "cell_type": "code",
   "execution_count": 6,
   "metadata": {},
   "outputs": [],
   "source": [
    "X = dados.drop(0, axis=1).to_numpy()\n",
    "y = dados.iloc[:, 0].to_numpy()"
   ]
  },
  {
   "cell_type": "code",
   "execution_count": 7,
   "metadata": {},
   "outputs": [],
   "source": [
    "with h5py.File(\"../dados/dota2.h5\", \"w\") as arquivo:\n",
    "    arquivo.create_dataset(\"X\", data=X, compression=\"gzip\", compression_opts=9)\n",
    "    arquivo.create_dataset(\"y\", data=y, compression=\"gzip\", compression_opts=9)\n",
    "    arquivo.create_dataset(\"K\", data=np.unique(y).size)"
   ]
  },
  {
   "cell_type": "code",
   "execution_count": 8,
   "metadata": {},
   "outputs": [],
   "source": [
    "with h5py.File(\"../dados/dota2.h5\", \"r\") as arquivo:\n",
    "    X = pd.DataFrame(arquivo.get(\"X\")[()])\n",
    "    y = pd.DataFrame(arquivo.get(\"y\")[()])"
   ]
  },
  {
   "cell_type": "markdown",
   "metadata": {},
   "source": [
    "# Divisão em treino e teste"
   ]
  },
  {
   "cell_type": "code",
   "execution_count": 9,
   "metadata": {},
   "outputs": [],
   "source": [
    "X_train, X_test, y_train, y_test = model_selection.train_test_split(\n",
    "    X, y, test_size=0.3, random_state=42, stratify=y\n",
    ")\n",
    "X_train, X_test, y_train, y_test = X_train.copy(), X_test.copy(), y_train.copy(), y_test.copy()"
   ]
  },
  {
   "cell_type": "markdown",
   "metadata": {},
   "source": [
    "# Conversão de variáveis em versões _target-encoded_"
   ]
  },
  {
   "cell_type": "markdown",
   "metadata": {},
   "source": [
    "Os códigos abaixo foram adaptados de um artigo no [Medium](https://medium.com/@pouryaayria/k-fold-target-encoding-dfe9a594874b) sobre _$K$-Fold Target Encoding_, que será utilizado para fins de pré-processamento do conjunto de dados a ser trabalhado."
   ]
  },
  {
   "cell_type": "code",
   "execution_count": 10,
   "metadata": {},
   "outputs": [],
   "source": [
    "class KFoldStratifiedTargetEncoder(base.BaseEstimator, base.TransformerMixin):\n",
    "    def __init__(self, number_of_folds=5, verbose=False):\n",
    "        self.number_of_folds = number_of_folds\n",
    "        self.verbose = verbose\n",
    "\n",
    "        self._values = None\n",
    "\n",
    "    @property\n",
    "    def number_of_folds(self):\n",
    "        return self.__number_of_folds\n",
    "\n",
    "    @number_of_folds.setter\n",
    "    def number_of_folds(self, new_number_of_folds):\n",
    "        self.__number_of_folds = new_number_of_folds\n",
    "\n",
    "    @property\n",
    "    def verbose(self):\n",
    "        return self.__verbose\n",
    "\n",
    "    @verbose.setter\n",
    "    def verbose(self, new_verbose):\n",
    "        self.__verbose = new_verbose\n",
    "\n",
    "    def fit(self, X, y, **fit_params):\n",
    "        encoded_X, current_fold = np.empty_like(X, dtype=np.float_), 0\n",
    "        stratified_k_fold = model_selection.StratifiedKFold(n_splits=self.number_of_folds)\n",
    "\n",
    "        for train_indices, test_indices in stratified_k_fold.split(X, y):\n",
    "            X_train, y_train, X_test = X[train_indices, :], y[train_indices], X[test_indices, :]\n",
    "            self._values = {column: None for column in range(X.shape[1])}\n",
    "\n",
    "            for column in range(X.shape[1]):\n",
    "                X_train_column, X_test_column = X_train[:, column], X_test[:, column]\n",
    "                encoded_X_column = np.full_like(X_test_column, y_train.mean(), dtype=np.float_)\n",
    "                categories = np.unique(X_train_column)\n",
    "\n",
    "                for category in categories:\n",
    "                    encoded_X_column[X_test_column == category] = y_train[X_train_column == category].mean()\n",
    "                encoded_X[test_indices, column] = encoded_X_column\n",
    "\n",
    "            current_fold += 1\n",
    "\n",
    "        for column in range(X.shape[1]):\n",
    "            X_column = X[:, column]\n",
    "            categories = np.unique(X_column)\n",
    "\n",
    "            self._values[column] = {category: None for category in categories}\n",
    "\n",
    "            for category in categories:\n",
    "                self._values[column][category] = y[X_column == category].mean()\n",
    "\n",
    "        if \"return_encoded_X\" in fit_params.keys() and fit_params[\"return_encoded_X\"] is True:\n",
    "            return encoded_X\n",
    "\n",
    "        return self\n",
    "\n",
    "    def transform(self, X):\n",
    "        if self._values is None:\n",
    "            raise ValueError()\n",
    "\n",
    "        encoded_X = np.empty_like(X, dtype=np.float_)\n",
    "\n",
    "        for column in range(X.shape[1]):\n",
    "            X_column = X[:, column]\n",
    "            encoded_X_column = np.empty_like(X_column, dtype=np.float_)\n",
    "\n",
    "            for category, value in self._values[column].items():\n",
    "                encoded_X_column[X_column == category] = value\n",
    "\n",
    "            encoded_X[:, column] = encoded_X_column\n",
    "\n",
    "        return encoded_X\n",
    "\n",
    "    def fit_transform(self, X, y=None, **fit_params):\n",
    "        if y is None:\n",
    "            raise ValueError()\n",
    "        else:\n",
    "            return self.fit(X, y, return_encoded_X=True)"
   ]
  },
  {
   "cell_type": "code",
   "execution_count": 11,
   "metadata": {},
   "outputs": [],
   "source": [
    "target_encoder = KFoldStratifiedTargetEncoder(number_of_folds=10)"
   ]
  },
  {
   "cell_type": "code",
   "execution_count": 12,
   "metadata": {},
   "outputs": [],
   "source": [
    "X_train.iloc[:, 0:3] = target_encoder.fit_transform(X_train.iloc[:, 0:3].to_numpy().copy(), y_train.to_numpy().ravel().copy())\n",
    "X_test.iloc[:, 0:3] = target_encoder.transform(X_test.iloc[:, 0:3].to_numpy().copy())"
   ]
  },
  {
   "cell_type": "markdown",
   "metadata": {},
   "source": [
    "# Treino dos algoritmos"
   ]
  },
  {
   "cell_type": "code",
   "execution_count": 45,
   "metadata": {},
   "outputs": [],
   "source": [
    "models = {\n",
    "    \"dt\": tree.DecisionTreeClassifier(),\n",
    "    \"mlp\": neural_network.MLPClassifier(),\n",
    "    \"elm\": extreme_learning_machine.ELM(),\n",
    "}"
   ]
  },
  {
   "cell_type": "code",
   "execution_count": 46,
   "metadata": {},
   "outputs": [],
   "source": [
    "stratified_k_fold = model_selection.StratifiedKFold(n_splits=10)"
   ]
  },
  {
   "cell_type": "code",
   "execution_count": 51,
   "metadata": {},
   "outputs": [],
   "source": [
    "results = []\n",
    "\n",
    "for acronym, model in models.items():\n",
    "    results.append(\n",
    "        model_selection.cross_validate(\n",
    "            model, X_train.to_numpy(), y_train.to_numpy().ravel(), n_jobs=-1, cv=stratified_k_fold, scoring=[\n",
    "                \"accuracy\", \"f1\"\n",
    "            ]\n",
    "        )\n",
    "    )"
   ]
  },
  {
   "cell_type": "code",
   "execution_count": 61,
   "metadata": {},
   "outputs": [
    {
     "name": "stdout",
     "output_type": "stream",
     "text": [
      "dt: accuracy 0.5189703025256731, f1 0.5430234310215969\n",
      "mlp: accuracy 0.5423952262003886, f1 0.5731863271896556\n",
      "elm: accuracy 0.5922980849292256, f1 0.635421688277177\n"
     ]
    }
   ],
   "source": [
    "for index, name in enumerate(models.keys()):\n",
    "    print(f\"{name}: accuracy {results[index]['test_accuracy'].mean()}, f1 {results[index]['test_f1'].mean()}\")"
   ]
  }
 ],
 "metadata": {
  "kernelspec": {
   "display_name": "Python [conda env:dr]",
   "language": "python",
   "name": "conda-env-dr-py"
  },
  "language_info": {
   "codemirror_mode": {
    "name": "ipython",
    "version": 3
   },
   "file_extension": ".py",
   "mimetype": "text/x-python",
   "name": "python",
   "nbconvert_exporter": "python",
   "pygments_lexer": "ipython3",
   "version": "3.6.10"
  }
 },
 "nbformat": 4,
 "nbformat_minor": 4
}
